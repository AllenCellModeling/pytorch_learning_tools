{
 "cells": [
  {
   "cell_type": "markdown",
   "metadata": {},
   "source": [
    "# Test Data Providers"
   ]
  },
  {
   "cell_type": "code",
   "execution_count": 1,
   "metadata": {},
   "outputs": [],
   "source": [
    "import os, sys, gc, copy, itertools, json\n",
    "\n",
    "import numpy as np\n",
    "import pandas as pd\n",
    "from tqdm import tqdm, tqdm_notebook\n",
    "\n",
    "from scipy.stats import mode\n",
    "\n",
    "from sklearn.preprocessing import LabelEncoder\n",
    "from sklearn.model_selection import train_test_split, StratifiedKFold\n",
    "from sklearn.metrics import confusion_matrix, classification_report, accuracy_score\n",
    "\n",
    "import torch\n",
    "from torch import nn\n",
    "from torch.autograd import Variable\n",
    "import torch.optim as optim\n",
    "from torch.utils.data import TensorDataset, DataLoader\n",
    "from torch.utils.data.sampler import Sampler, SubsetRandomSampler\n",
    "from torchvision import transforms, utils, models\n",
    "\n",
    "import matplotlib\n",
    "import matplotlib.pyplot as plt\n",
    "%matplotlib inline\n",
    "\n",
    "from PIL import Image\n",
    "from IPython.core.display import display"
   ]
  },
  {
   "cell_type": "code",
   "execution_count": 2,
   "metadata": {},
   "outputs": [],
   "source": [
    "GPU_ID = 1"
   ]
  },
  {
   "cell_type": "markdown",
   "metadata": {},
   "source": [
    "## PIL image DP"
   ]
  },
  {
   "cell_type": "code",
   "execution_count": 3,
   "metadata": {},
   "outputs": [],
   "source": [
    "from pytorch_learning_tools.data_providers.DataProviderDataFramePIL import dataframeDataProvider, dataframeDataset"
   ]
  },
  {
   "cell_type": "markdown",
   "metadata": {},
   "source": [
    "### load csv file as dataframe"
   ]
  },
  {
   "cell_type": "code",
   "execution_count": 4,
   "metadata": {},
   "outputs": [
    {
     "name": "stdout",
     "output_type": "stream",
     "text": [
      "{\n",
      "  \"Alpha tubulin\": 0,\n",
      "  \"Beta actin\": 1,\n",
      "  \"Desmoplakin\": 2,\n",
      "  \"Lamin B1\": 3,\n",
      "  \"ST6GAL1\": 4,\n",
      "  \"Sec61 beta\": 5,\n",
      "  \"Tom20\": 6\n",
      "}\n"
     ]
    }
   ],
   "source": [
    "# read file\n",
    "df = pd.read_csv('/root/aics/modeling/gregj/results/ipp/ipp_17_12_03/data_jobs_out.csv',\n",
    "                 dtype={'structureSegOutputFilename':str, 'structureSegOutputFolder':str})\n",
    "\n",
    "# filter for mito annotations\n",
    "df = df.query('mitoticLabel >= 0')\n",
    "df = df.reset_index(drop=True)\n",
    "\n",
    "# add numeric labels\n",
    "le = LabelEncoder()\n",
    "df['targetNumeric'] = le.fit_transform(df['structureProteinName']).astype(int)\n",
    "\n",
    "# print label map\n",
    "print(json.dumps(dict(zip(le.classes_,[int(i) for i in le.transform(le.classes_)])), indent = 2))"
   ]
  },
  {
   "cell_type": "markdown",
   "metadata": {},
   "source": [
    "### load dataprovider from dataframe"
   ]
  },
  {
   "cell_type": "code",
   "execution_count": 5,
   "metadata": {},
   "outputs": [
    {
     "name": "stderr",
     "output_type": "stream",
     "text": [
      "scanning files: 100%|██████████| 693/693 [00:01<00:00, 601.81it/s]\n",
      "scanning files: 100%|██████████| 2820/2820 [00:03<00:00, 909.46it/s]"
     ]
    },
    {
     "name": "stdout",
     "output_type": "stream",
     "text": [
      "dropped 16 data points in test split\n",
      "dropped 32 data points in train split\n"
     ]
    },
    {
     "name": "stderr",
     "output_type": "stream",
     "text": [
      "\n"
     ]
    }
   ],
   "source": [
    "dp = dataframeDataProvider(df,\n",
    "                           image_root_dir='/root/aics/modeling/gregj/results/ipp/ipp_17_12_03/',\n",
    "                           image_path_col='save_flat_reg_path',\n",
    "                           image_type='png',\n",
    "                           image_channels=(0,2),\n",
    "                           image_transform=transforms.Compose([transforms.ToTensor(), lambda x: x[(0,2),:,:]]),\n",
    "                           target_col='targetNumeric',\n",
    "                           unique_id_col='save_h5_reg_path',\n",
    "                           split_fracs={'train': 0.8, 'test': 0.2},\n",
    "                           batch_size=32,\n",
    "                           shuffle=True,\n",
    "                           split_seed=1,\n",
    "                           num_workers=4,\n",
    "                           pin_memory=True)"
   ]
  },
  {
   "cell_type": "markdown",
   "metadata": {},
   "source": [
    "### test dataset i/o (via indices)"
   ]
  },
  {
   "cell_type": "code",
   "execution_count": 6,
   "metadata": {},
   "outputs": [],
   "source": [
    "dset = dp._datasets['test']"
   ]
  },
  {
   "cell_type": "markdown",
   "metadata": {},
   "source": [
    "#### with single index"
   ]
  },
  {
   "cell_type": "code",
   "execution_count": 7,
   "metadata": {},
   "outputs": [
    {
     "name": "stdout",
     "output_type": "stream",
     "text": [
      "torch.Size([1])\n",
      "torch.Size([2, 161, 101])\n",
      "125\n"
     ]
    }
   ],
   "source": [
    "x,y,u = dset[4]\n",
    "print(y.shape)\n",
    "print(x.shape)\n",
    "print(len(u))"
   ]
  },
  {
   "cell_type": "markdown",
   "metadata": {},
   "source": [
    "#### with multiple indices"
   ]
  },
  {
   "cell_type": "code",
   "execution_count": 8,
   "metadata": {},
   "outputs": [
    {
     "name": "stdout",
     "output_type": "stream",
     "text": [
      "torch.Size([4, 1])\n",
      "torch.Size([4, 2, 161, 101])\n",
      "4\n"
     ]
    }
   ],
   "source": [
    "x,y,u = dset[[110,111,112,113]]\n",
    "print(y.shape)\n",
    "print(x.shape)\n",
    "print(len(u))"
   ]
  },
  {
   "cell_type": "markdown",
   "metadata": {},
   "source": [
    "### test dataprovider i/o (via unique ids)"
   ]
  },
  {
   "cell_type": "markdown",
   "metadata": {},
   "source": [
    "#### with single id"
   ]
  },
  {
   "cell_type": "code",
   "execution_count": 9,
   "metadata": {},
   "outputs": [
    {
     "name": "stdout",
     "output_type": "stream",
     "text": [
      "torch.Size([1])\n",
      "torch.Size([2, 161, 101])\n",
      "129\n"
     ]
    }
   ],
   "source": [
    "x,y,u = dp['3500001157_100X_20170807_5-Scene-10-P40-E08.czi_f28487ddfa8d6d4b4ce77ff5d/3500001157_100X_20170807_5-Scene-10-P40-E08.czi_13.0.h5']\n",
    "print(y.shape)\n",
    "print(x.shape)\n",
    "print(len(u))"
   ]
  },
  {
   "cell_type": "markdown",
   "metadata": {},
   "source": [
    "#### with multiple ids"
   ]
  },
  {
   "cell_type": "code",
   "execution_count": 10,
   "metadata": {},
   "outputs": [
    {
     "name": "stdout",
     "output_type": "stream",
     "text": [
      "torch.Size([3, 1])\n",
      "torch.Size([3, 2, 161, 101])\n",
      "3\n"
     ]
    }
   ],
   "source": [
    "x,y,u = dp[['3500000949_100X_20170531_7-Scene-1-P16-E05.czi_a2fb0a90e0f5b8f69a1cb1d3b/3500000949_100X_20170531_7-Scene-1-P16-E05.czi_11.0.h5',\n",
    "            '3500001238_10X_20170828_2-Scene-05-P8-E05.czi_83ced757a579063fc7b5e71a2/3500001238_10X_20170828_2-Scene-05-P8-E05.czi_2.0.h5',\n",
    "            '3500000939_100X_20170526_7-Scene-05-P35-E07.czi_2f1b3595040633b64c247ef9b/3500000939_100X_20170526_7-Scene-05-P35-E07.czi_10.0.h5']]\n",
    "print(y.shape)\n",
    "print(x.shape)\n",
    "print(len(u))"
   ]
  },
  {
   "cell_type": "markdown",
   "metadata": {},
   "source": [
    "### test dataloader i/o"
   ]
  },
  {
   "cell_type": "code",
   "execution_count": 11,
   "metadata": {},
   "outputs": [],
   "source": [
    "i,(x,y,u) = next(enumerate(dp.dataloaders['test']))"
   ]
  },
  {
   "cell_type": "code",
   "execution_count": 12,
   "metadata": {},
   "outputs": [
    {
     "name": "stdout",
     "output_type": "stream",
     "text": [
      "torch.Size([32, 1])\n",
      "torch.Size([32, 2, 161, 101])\n",
      "32\n"
     ]
    }
   ],
   "source": [
    "print(y.shape)\n",
    "print(x.shape)\n",
    "print(len(u))"
   ]
  },
  {
   "cell_type": "markdown",
   "metadata": {},
   "source": [
    "## HDF5 DP"
   ]
  },
  {
   "cell_type": "code",
   "execution_count": 13,
   "metadata": {},
   "outputs": [
    {
     "name": "stderr",
     "output_type": "stream",
     "text": [
      "/opt/conda/envs/pytorch-py3.6/lib/python3.6/site-packages/h5py/__init__.py:36: FutureWarning: Conversion of the second argument of issubdtype from `float` to `np.floating` is deprecated. In future, it will be treated as `np.float64 == np.dtype(float).type`.\n",
      "  from ._conv import register_converters as _register_converters\n"
     ]
    }
   ],
   "source": [
    "from pytorch_learning_tools.data_providers.DataProviderDataFrameHDF5 import dataframeDataProvider, dataframeDataset"
   ]
  },
  {
   "cell_type": "markdown",
   "metadata": {},
   "source": [
    "### load csv file as dataframe"
   ]
  },
  {
   "cell_type": "code",
   "execution_count": 14,
   "metadata": {},
   "outputs": [
    {
     "name": "stdout",
     "output_type": "stream",
     "text": [
      "{\n",
      "  \"Alpha tubulin\": 0,\n",
      "  \"Beta actin\": 1,\n",
      "  \"Desmoplakin\": 2,\n",
      "  \"Lamin B1\": 3,\n",
      "  \"ST6GAL1\": 4,\n",
      "  \"Sec61 beta\": 5,\n",
      "  \"Tom20\": 6\n",
      "}\n"
     ]
    }
   ],
   "source": [
    "# read file\n",
    "df = pd.read_csv('/root/aics/modeling/gregj/results/ipp/ipp_17_12_03/data_jobs_out.csv',\n",
    "                 dtype={'structureSegOutputFilename':str, 'structureSegOutputFolder':str})\n",
    "\n",
    "# add column with clean paths to h5 files (TODO: report bug in greg's code)\n",
    "\n",
    "clean_paths = [p.replace('.0.h5', '.h5') for p in df['save_h5_reg_path']]\n",
    "df['save_h5_reg_path_clean'] = clean_paths\n",
    "\n",
    "# filter for mito annotations\n",
    "df = df.query('mitoticLabel >= 0')\n",
    "df = df.reset_index(drop=True)\n",
    "\n",
    "# add numeric labels\n",
    "le = LabelEncoder()\n",
    "df['targetNumeric'] = le.fit_transform(df['structureProteinName']).astype(int)\n",
    "\n",
    "# print label map\n",
    "print(json.dumps(dict(zip(le.classes_,[int(i) for i in le.transform(le.classes_)])), indent = 2))"
   ]
  },
  {
   "cell_type": "markdown",
   "metadata": {
    "heading_collapsed": true
   },
   "source": [
    "### load dataprovider from dataframe"
   ]
  },
  {
   "cell_type": "code",
   "execution_count": 15,
   "metadata": {
    "hidden": true
   },
   "outputs": [
    {
     "name": "stderr",
     "output_type": "stream",
     "text": [
      "scanning files: 100%|██████████| 693/693 [00:00<00:00, 755.80it/s]\n",
      "scanning files: 100%|██████████| 2820/2820 [00:02<00:00, 969.24it/s]"
     ]
    },
    {
     "name": "stdout",
     "output_type": "stream",
     "text": [
      "dropped 0 data points in test split\n",
      "dropped 0 data points in train split\n"
     ]
    },
    {
     "name": "stderr",
     "output_type": "stream",
     "text": [
      "\n"
     ]
    }
   ],
   "source": [
    "dp = dataframeDataProvider(df,\n",
    "                           image_root_dir='/root/aics/modeling/gregj/results/ipp/ipp_17_10_25/',\n",
    "                           image_path_col='save_h5_reg_path_clean',\n",
    "                           image_channels=(3,4,2),\n",
    "                           target_col='targetNumeric',\n",
    "                           unique_id_col='save_h5_reg_path',\n",
    "                           split_fracs={'train': 0.8, 'test': 0.2},\n",
    "                           batch_size=32,\n",
    "                           shuffle=True,\n",
    "                           split_seed=1,\n",
    "                           num_workers=4,\n",
    "                           pin_memory=True)"
   ]
  },
  {
   "cell_type": "markdown",
   "metadata": {},
   "source": [
    "### test dataset i/o (via indices)"
   ]
  },
  {
   "cell_type": "code",
   "execution_count": 16,
   "metadata": {},
   "outputs": [],
   "source": [
    "dset = dp._datasets['test']"
   ]
  },
  {
   "cell_type": "markdown",
   "metadata": {},
   "source": [
    "#### with single index"
   ]
  },
  {
   "cell_type": "code",
   "execution_count": 17,
   "metadata": {},
   "outputs": [
    {
     "name": "stdout",
     "output_type": "stream",
     "text": [
      "torch.Size([1])\n",
      "torch.Size([3, 128, 96, 64])\n",
      "125\n"
     ]
    }
   ],
   "source": [
    "x,y,u = dset[4]\n",
    "print(y.shape)\n",
    "print(x.shape)\n",
    "print(len(u))"
   ]
  },
  {
   "cell_type": "markdown",
   "metadata": {},
   "source": [
    "#### with multiple indices"
   ]
  },
  {
   "cell_type": "code",
   "execution_count": 18,
   "metadata": {},
   "outputs": [
    {
     "name": "stdout",
     "output_type": "stream",
     "text": [
      "torch.Size([4, 1])\n",
      "torch.Size([4, 3, 128, 96, 64])\n",
      "4\n"
     ]
    }
   ],
   "source": [
    "x,y,u = dset[[110,111,112,113]]\n",
    "print(y.shape)\n",
    "print(x.shape)\n",
    "print(len(u))"
   ]
  },
  {
   "cell_type": "markdown",
   "metadata": {},
   "source": [
    "### test dataprovider i/o (via unique ids)"
   ]
  },
  {
   "cell_type": "markdown",
   "metadata": {},
   "source": [
    "#### with single id"
   ]
  },
  {
   "cell_type": "code",
   "execution_count": 19,
   "metadata": {},
   "outputs": [
    {
     "name": "stdout",
     "output_type": "stream",
     "text": [
      "torch.Size([1])\n",
      "torch.Size([3, 128, 96, 64])\n",
      "129\n"
     ]
    }
   ],
   "source": [
    "x,y,u = dp['3500001157_100X_20170807_5-Scene-10-P40-E08.czi_f28487ddfa8d6d4b4ce77ff5d/3500001157_100X_20170807_5-Scene-10-P40-E08.czi_13.0.h5']\n",
    "print(y.shape)\n",
    "print(x.shape)\n",
    "print(len(u))"
   ]
  },
  {
   "cell_type": "markdown",
   "metadata": {},
   "source": [
    "#### with multiple ids"
   ]
  },
  {
   "cell_type": "code",
   "execution_count": 20,
   "metadata": {},
   "outputs": [
    {
     "name": "stdout",
     "output_type": "stream",
     "text": [
      "torch.Size([3, 1])\n",
      "torch.Size([3, 3, 128, 96, 64])\n",
      "3\n"
     ]
    }
   ],
   "source": [
    "x,y,u = dp[['3500000949_100X_20170531_7-Scene-1-P16-E05.czi_a2fb0a90e0f5b8f69a1cb1d3b/3500000949_100X_20170531_7-Scene-1-P16-E05.czi_11.0.h5',\n",
    "            '3500001238_10X_20170828_2-Scene-05-P8-E05.czi_83ced757a579063fc7b5e71a2/3500001238_10X_20170828_2-Scene-05-P8-E05.czi_2.0.h5',\n",
    "            '3500000939_100X_20170526_7-Scene-05-P35-E07.czi_2f1b3595040633b64c247ef9b/3500000939_100X_20170526_7-Scene-05-P35-E07.czi_10.0.h5']]\n",
    "print(y.shape)\n",
    "print(x.shape)\n",
    "print(len(u))"
   ]
  },
  {
   "cell_type": "markdown",
   "metadata": {},
   "source": [
    "### test dataloader i/o"
   ]
  },
  {
   "cell_type": "code",
   "execution_count": 21,
   "metadata": {},
   "outputs": [],
   "source": [
    "i,(x,y,u) = next(enumerate(dp.dataloaders['test']))"
   ]
  },
  {
   "cell_type": "code",
   "execution_count": 22,
   "metadata": {},
   "outputs": [
    {
     "name": "stdout",
     "output_type": "stream",
     "text": [
      "torch.Size([32, 1])\n",
      "torch.Size([32, 3, 128, 96, 64])\n",
      "32\n"
     ]
    }
   ],
   "source": [
    "print(y.shape)\n",
    "print(x.shape)\n",
    "print(len(u))"
   ]
  },
  {
   "cell_type": "markdown",
   "metadata": {},
   "source": [
    "## Feature DP"
   ]
  },
  {
   "cell_type": "code",
   "execution_count": 23,
   "metadata": {},
   "outputs": [],
   "source": [
    "from pytorch_learning_tools.data_providers.DataProviderDataFrameFeatures import dataframeDataProvider, dataframeDataset"
   ]
  },
  {
   "cell_type": "code",
   "execution_count": 24,
   "metadata": {},
   "outputs": [
    {
     "name": "stderr",
     "output_type": "stream",
     "text": [
      "/opt/conda/envs/pytorch-py3.6/lib/python3.6/site-packages/IPython/core/interactiveshell.py:2698: DtypeWarning: Columns (8,24,29,30,32) have mixed types. Specify dtype option on import or set low_memory=False.\n",
      "  interactivity=interactivity, compiler=compiler, result=result)\n"
     ]
    },
    {
     "name": "stdout",
     "output_type": "stream",
     "text": [
      "{\n",
      "  \"Alpha tubulin\": 0,\n",
      "  \"Beta actin\": 1,\n",
      "  \"Desmoplakin\": 2,\n",
      "  \"Lamin B1\": 3,\n",
      "  \"ST6GAL1\": 4,\n",
      "  \"Sec61 beta\": 5,\n",
      "  \"Tom20\": 6\n",
      "}\n"
     ]
    }
   ],
   "source": [
    "df = pd.read_csv('/root/aics/modeling/gregj/results/ipp/ipp_17_12_03/feats_out.csv')\n",
    "\n",
    "# filter for mito annotations\n",
    "df = df.query('mitoticLabel >= 0')\n",
    "df = df.reset_index(drop=True)\n",
    "\n",
    "# add numeric labels\n",
    "le = LabelEncoder()\n",
    "df['targetNumeric'] = le.fit_transform(df['structureProteinName']).astype(int)\n",
    "\n",
    "# print label map\n",
    "print(json.dumps(dict(zip(le.classes_,[int(i) for i in le.transform(le.classes_)])), indent = 2))"
   ]
  },
  {
   "cell_type": "code",
   "execution_count": 25,
   "metadata": {},
   "outputs": [],
   "source": [
    "dp = dataframeDataProvider(df,\n",
    "                           feat_col_pattern='feat_',\n",
    "                           target_col='mitoticLabel',\n",
    "                           unique_id_col='save_h5_reg_path',\n",
    "                           batch_size=32,\n",
    "                           split_fracs={'train': 0.8, 'test': 0.2},\n",
    "                           split_seed=1,\n",
    "                           num_workers=4,\n",
    "                           pin_memory=True)"
   ]
  },
  {
   "cell_type": "markdown",
   "metadata": {},
   "source": [
    "### test dataset i/o (via indices)"
   ]
  },
  {
   "cell_type": "code",
   "execution_count": 26,
   "metadata": {},
   "outputs": [],
   "source": [
    "dset = dp._datasets['test']"
   ]
  },
  {
   "cell_type": "markdown",
   "metadata": {},
   "source": [
    "#### with single index"
   ]
  },
  {
   "cell_type": "code",
   "execution_count": 27,
   "metadata": {},
   "outputs": [
    {
     "name": "stdout",
     "output_type": "stream",
     "text": [
      "torch.Size([1])\n",
      "torch.Size([1, 2479])\n",
      "['3500000943_100X_20170530_2-Scene-2-P6-E04.czi_c2fc6577038a71c9dc3a28465/3500000943_100X_20170530_2-Scene-2-P6-E04.czi_12.0.h5']\n"
     ]
    }
   ],
   "source": [
    "x,y,u = dset[4]\n",
    "print(y.shape)\n",
    "print(x.shape)\n",
    "print(u)"
   ]
  },
  {
   "cell_type": "markdown",
   "metadata": {},
   "source": [
    "#### with multiple indices"
   ]
  },
  {
   "cell_type": "code",
   "execution_count": 28,
   "metadata": {},
   "outputs": [
    {
     "name": "stdout",
     "output_type": "stream",
     "text": [
      "torch.Size([4])\n",
      "torch.Size([4, 2479])\n",
      "4\n"
     ]
    }
   ],
   "source": [
    "x,y,u = dset[[110,111,112,113]]\n",
    "print(y.shape)\n",
    "print(x.shape)\n",
    "print(len(u))"
   ]
  },
  {
   "cell_type": "markdown",
   "metadata": {},
   "source": [
    "### test dataprovider i/o (via unique ids)"
   ]
  },
  {
   "cell_type": "markdown",
   "metadata": {},
   "source": [
    "#### with single id"
   ]
  },
  {
   "cell_type": "code",
   "execution_count": 29,
   "metadata": {},
   "outputs": [
    {
     "name": "stdout",
     "output_type": "stream",
     "text": [
      "torch.Size([1])\n",
      "torch.Size([1, 2479])\n",
      "['3500001157_100X_20170807_5-Scene-10-P40-E08.czi_f28487ddfa8d6d4b4ce77ff5d/3500001157_100X_20170807_5-Scene-10-P40-E08.czi_13.0.h5']\n"
     ]
    }
   ],
   "source": [
    "x,y,u = dp['3500001157_100X_20170807_5-Scene-10-P40-E08.czi_f28487ddfa8d6d4b4ce77ff5d/3500001157_100X_20170807_5-Scene-10-P40-E08.czi_13.0.h5']\n",
    "print(y.shape)\n",
    "print(x.shape)\n",
    "print(u)"
   ]
  },
  {
   "cell_type": "markdown",
   "metadata": {},
   "source": [
    "#### with multiple ids"
   ]
  },
  {
   "cell_type": "code",
   "execution_count": 30,
   "metadata": {},
   "outputs": [
    {
     "name": "stdout",
     "output_type": "stream",
     "text": [
      "torch.Size([3, 1])\n",
      "torch.Size([3, 1, 2479])\n",
      "3\n"
     ]
    }
   ],
   "source": [
    "x,y,u = dp[['3500000949_100X_20170531_7-Scene-1-P16-E05.czi_a2fb0a90e0f5b8f69a1cb1d3b/3500000949_100X_20170531_7-Scene-1-P16-E05.czi_11.0.h5',\n",
    "            '3500001238_10X_20170828_2-Scene-05-P8-E05.czi_83ced757a579063fc7b5e71a2/3500001238_10X_20170828_2-Scene-05-P8-E05.czi_2.0.h5',\n",
    "            '3500000939_100X_20170526_7-Scene-05-P35-E07.czi_2f1b3595040633b64c247ef9b/3500000939_100X_20170526_7-Scene-05-P35-E07.czi_10.0.h5']]\n",
    "print(y.shape)\n",
    "print(x.shape)\n",
    "print(len(u))"
   ]
  },
  {
   "cell_type": "markdown",
   "metadata": {},
   "source": [
    "### test dataloader i/o"
   ]
  },
  {
   "cell_type": "code",
   "execution_count": 31,
   "metadata": {},
   "outputs": [],
   "source": [
    "i,(x,y,u) = next(enumerate(dp.dataloaders['test']))"
   ]
  },
  {
   "cell_type": "code",
   "execution_count": 32,
   "metadata": {},
   "outputs": [
    {
     "name": "stdout",
     "output_type": "stream",
     "text": [
      "torch.Size([32, 1])\n",
      "torch.Size([32, 1, 2479])\n",
      "1\n"
     ]
    }
   ],
   "source": [
    "print(y.shape)\n",
    "print(x.shape)\n",
    "print(len(u))"
   ]
  },
  {
   "cell_type": "code",
   "execution_count": null,
   "metadata": {},
   "outputs": [],
   "source": []
  }
 ],
 "metadata": {
  "kernelspec": {
   "display_name": "Python 3",
   "language": "python",
   "name": "python3"
  },
  "language_info": {
   "codemirror_mode": {
    "name": "ipython",
    "version": 3
   },
   "file_extension": ".py",
   "mimetype": "text/x-python",
   "name": "python",
   "nbconvert_exporter": "python",
   "pygments_lexer": "ipython3",
   "version": "3.6.3"
  }
 },
 "nbformat": 4,
 "nbformat_minor": 2
}
