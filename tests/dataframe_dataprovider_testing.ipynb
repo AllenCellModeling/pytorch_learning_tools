{
 "cells": [
  {
   "cell_type": "markdown",
   "metadata": {},
   "source": [
    "# Test Data Providers"
   ]
  },
  {
   "cell_type": "code",
   "execution_count": 1,
   "metadata": {},
   "outputs": [
    {
     "name": "stderr",
     "output_type": "stream",
     "text": [
      "/opt/conda/lib/python3.6/site-packages/h5py/__init__.py:36: FutureWarning: Conversion of the second argument of issubdtype from `float` to `np.floating` is deprecated. In future, it will be treated as `np.float64 == np.dtype(float).type`.\n",
      "  from ._conv import register_converters as _register_converters\n"
     ]
    }
   ],
   "source": [
    "import os\n",
    "import json\n",
    "\n",
    "import numpy as np\n",
    "import pandas as pd\n",
    "\n",
    "from sklearn.preprocessing import LabelEncoder\n",
    "\n",
    "import torch\n",
    "from torchvision import transforms\n",
    "\n",
    "from pytorch_learning_tools.utils.dataframe_utils import filter_dataframe\n",
    "from pytorch_learning_tools.utils.data_utils import classes_and_weights\n",
    "from pytorch_learning_tools.data_providers.DataProviderDataFrame import dataframeDataProvider, dataframeDatasetFeatures, dataframeDatasetPIL, dataframeDatasetHDF5"
   ]
  },
  {
   "cell_type": "code",
   "execution_count": 2,
   "metadata": {},
   "outputs": [],
   "source": [
    "GPU_ID = 3\n",
    "BATCH_SIZE = 32"
   ]
  },
  {
   "cell_type": "markdown",
   "metadata": {},
   "source": [
    "## PIL image DP"
   ]
  },
  {
   "cell_type": "markdown",
   "metadata": {},
   "source": [
    "### load csv file as dataframe"
   ]
  },
  {
   "cell_type": "code",
   "execution_count": 3,
   "metadata": {},
   "outputs": [
    {
     "name": "stderr",
     "output_type": "stream",
     "text": [
      "scanning files: 100%|██████████| 3513/3513 [00:05<00:00, 639.94it/s]"
     ]
    },
    {
     "name": "stdout",
     "output_type": "stream",
     "text": [
      "{\n",
      "  \"Alpha tubulin\": 0,\n",
      "  \"Beta actin\": 1,\n",
      "  \"Desmoplakin\": 2,\n",
      "  \"Lamin B1\": 3,\n",
      "  \"ST6GAL1\": 4,\n",
      "  \"Sec61 beta\": 5,\n",
      "  \"Tom20\": 6\n",
      "}\n"
     ]
    },
    {
     "name": "stderr",
     "output_type": "stream",
     "text": [
      "\n"
     ]
    }
   ],
   "source": [
    "# read file\n",
    "df = pd.read_csv('/root/aics/modeling/gregj/results/ipp/ipp_17_12_03/data_jobs_out.csv',\n",
    "                 dtype={'structureSegOutputFilename':str, 'structureSegOutputFolder':str})\n",
    "\n",
    "# filter for mito annotations\n",
    "df = df.query('mitoticLabel >= 0')\n",
    "df = df.reset_index(drop=True)\n",
    "\n",
    "# filter for rows where images are actually present\n",
    "df = filter_dataframe(df,'/root/aics/modeling/gregj/results/ipp/ipp_17_12_03/','save_flat_reg_path')\n",
    "\n",
    "# add numeric labels\n",
    "le = LabelEncoder()\n",
    "df['targetNumeric'] = le.fit_transform(df['structureProteinName']).astype(int)\n",
    "\n",
    "# print label map\n",
    "print(json.dumps(dict(zip(le.classes_,[int(i) for i in le.transform(le.classes_)])), indent = 2))"
   ]
  },
  {
   "cell_type": "markdown",
   "metadata": {},
   "source": [
    "### load dataprovider from dataframe"
   ]
  },
  {
   "cell_type": "code",
   "execution_count": 4,
   "metadata": {},
   "outputs": [],
   "source": [
    "split_fracs={'train': 0.8, 'test': 0.2}\n",
    "split_seed=1\n",
    "\n",
    "dataloader_kwargs={split:{'batch_size':BATCH_SIZE,\n",
    "                          'shuffle':True,\n",
    "                          'drop_last':True,\n",
    "                          'num_workers':4,\n",
    "                          'pin_memory':True} for split in split_fracs.keys()}\n",
    "\n",
    "dataset_kwargs={split:{'image_root_dir':'/root/aics/modeling/gregj/results/ipp/ipp_17_12_03/',\n",
    "                       'image_path_col':'save_flat_reg_path',\n",
    "                       'image_type':'png',\n",
    "                       'image_channels':(0,2),\n",
    "                       'target_col':'targetNumeric',\n",
    "                       'unique_id_col':'save_h5_reg_path'} for split in split_fracs.keys()}\n",
    "\n",
    "dataset_kwargs['train']['image_transform'] = transforms.Compose([transforms.RandomRotation(degrees=90),\n",
    "                                             transforms.RandomHorizontalFlip(),\n",
    "                                             transforms.RandomVerticalFlip(),\n",
    "#                                              transforms.RandomResizedCrop(224, scale=(0.9,1.1)),\n",
    "                                             transforms.ToTensor(),\n",
    "                                             transforms.Normalize([0.485, 0.456, 0.406], [0.229, 0.224, 0.225])])\n",
    "\n",
    "dataset_kwargs['test']['image_transform'] = transforms.Compose([transforms.Resize(256),\n",
    "                                            transforms.CenterCrop(224),\n",
    "                                            transforms.ToTensor(),\n",
    "                                            transforms.Normalize([0.485, 0.456, 0.406], [0.229, 0.224, 0.225])])\n",
    "\n",
    "dp = dataframeDataProvider(df, dset_type=dataframeDatasetPIL,\n",
    "                           split_fracs=split_fracs,\n",
    "                           split_seed=split_seed,\n",
    "                           dataset_kwargs=dataset_kwargs,\n",
    "                           dataloader_kwargs=dataloader_kwargs)"
   ]
  },
  {
   "cell_type": "markdown",
   "metadata": {},
   "source": [
    "### test dataset i/o (via indices)"
   ]
  },
  {
   "cell_type": "code",
   "execution_count": 5,
   "metadata": {},
   "outputs": [],
   "source": [
    "dset = dp._datasets['test']"
   ]
  },
  {
   "cell_type": "markdown",
   "metadata": {},
   "source": [
    "#### with single index"
   ]
  },
  {
   "cell_type": "code",
   "execution_count": 6,
   "metadata": {},
   "outputs": [
    {
     "name": "stdout",
     "output_type": "stream",
     "text": [
      "torch.Size([1])\n",
      "torch.Size([3, 224, 224])\n",
      "125 <class 'str'>\n"
     ]
    }
   ],
   "source": [
    "x,y,u = dset[4]\n",
    "print(y.shape)\n",
    "print(x.shape)\n",
    "print(len(u), type(u))"
   ]
  },
  {
   "cell_type": "markdown",
   "metadata": {},
   "source": [
    "#### with multiple indices"
   ]
  },
  {
   "cell_type": "code",
   "execution_count": 7,
   "metadata": {},
   "outputs": [
    {
     "name": "stdout",
     "output_type": "stream",
     "text": [
      "torch.Size([4, 1])\n",
      "torch.Size([4, 3, 224, 224])\n",
      "4 <class 'tuple'>\n"
     ]
    }
   ],
   "source": [
    "x,y,u = dset[[110,111,112,113]]\n",
    "print(y.shape)\n",
    "print(x.shape)\n",
    "print(len(u), type(u))"
   ]
  },
  {
   "cell_type": "markdown",
   "metadata": {},
   "source": [
    "### test dataprovider i/o (via unique ids)"
   ]
  },
  {
   "cell_type": "markdown",
   "metadata": {},
   "source": [
    "#### with single id"
   ]
  },
  {
   "cell_type": "code",
   "execution_count": 8,
   "metadata": {},
   "outputs": [
    {
     "name": "stdout",
     "output_type": "stream",
     "text": [
      "torch.Size([1])\n",
      "torch.Size([3, 224, 224])\n",
      "129 <class 'str'>\n"
     ]
    }
   ],
   "source": [
    "x,y,u = dp['3500001157_100X_20170807_5-Scene-10-P40-E08.czi_f28487ddfa8d6d4b4ce77ff5d/3500001157_100X_20170807_5-Scene-10-P40-E08.czi_13.0.h5']\n",
    "print(y.shape)\n",
    "print(x.shape)\n",
    "print(len(u), type(u))"
   ]
  },
  {
   "cell_type": "markdown",
   "metadata": {},
   "source": [
    "#### with multiple ids"
   ]
  },
  {
   "cell_type": "code",
   "execution_count": 9,
   "metadata": {},
   "outputs": [
    {
     "name": "stdout",
     "output_type": "stream",
     "text": [
      "torch.Size([3, 1])\n",
      "torch.Size([3, 3, 224, 224])\n",
      "3 <class 'tuple'>\n"
     ]
    },
    {
     "data": {
      "text/plain": [
       "('3500000949_100X_20170531_7-Scene-1-P16-E05.czi_a2fb0a90e0f5b8f69a1cb1d3b/3500000949_100X_20170531_7-Scene-1-P16-E05.czi_11.0.h5',\n",
       " '3500001238_10X_20170828_2-Scene-05-P8-E05.czi_83ced757a579063fc7b5e71a2/3500001238_10X_20170828_2-Scene-05-P8-E05.czi_2.0.h5',\n",
       " '3500000939_100X_20170526_7-Scene-05-P35-E07.czi_2f1b3595040633b64c247ef9b/3500000939_100X_20170526_7-Scene-05-P35-E07.czi_10.0.h5')"
      ]
     },
     "execution_count": 9,
     "metadata": {},
     "output_type": "execute_result"
    }
   ],
   "source": [
    "x,y,u = dp[['3500000949_100X_20170531_7-Scene-1-P16-E05.czi_a2fb0a90e0f5b8f69a1cb1d3b/3500000949_100X_20170531_7-Scene-1-P16-E05.czi_11.0.h5',\n",
    "            '3500001238_10X_20170828_2-Scene-05-P8-E05.czi_83ced757a579063fc7b5e71a2/3500001238_10X_20170828_2-Scene-05-P8-E05.czi_2.0.h5',\n",
    "            '3500000939_100X_20170526_7-Scene-05-P35-E07.czi_2f1b3595040633b64c247ef9b/3500000939_100X_20170526_7-Scene-05-P35-E07.czi_10.0.h5']]\n",
    "print(y.shape)\n",
    "print(x.shape)\n",
    "print(len(u), type(u))\n",
    "u"
   ]
  },
  {
   "cell_type": "markdown",
   "metadata": {},
   "source": [
    "### test dataloader i/o"
   ]
  },
  {
   "cell_type": "code",
   "execution_count": 10,
   "metadata": {},
   "outputs": [],
   "source": [
    "i,(x,y,u) = next(enumerate(dp.dataloaders['test']))"
   ]
  },
  {
   "cell_type": "code",
   "execution_count": 11,
   "metadata": {},
   "outputs": [
    {
     "name": "stdout",
     "output_type": "stream",
     "text": [
      "torch.Size([32, 1])\n",
      "torch.Size([32, 3, 224, 224])\n",
      "32 <class 'list'>\n"
     ]
    }
   ],
   "source": [
    "print(y.shape)\n",
    "print(x.shape)\n",
    "print(len(u), type(u))"
   ]
  },
  {
   "cell_type": "markdown",
   "metadata": {},
   "source": [
    "## HDF5 DP"
   ]
  },
  {
   "cell_type": "markdown",
   "metadata": {},
   "source": [
    "### load csv file as dataframe"
   ]
  },
  {
   "cell_type": "code",
   "execution_count": 12,
   "metadata": {},
   "outputs": [
    {
     "name": "stderr",
     "output_type": "stream",
     "text": [
      "scanning files: 100%|██████████| 3513/3513 [00:00<00:00, 8266.76it/s]"
     ]
    },
    {
     "name": "stdout",
     "output_type": "stream",
     "text": [
      "{\n",
      "  \"Alpha tubulin\": 0,\n",
      "  \"Beta actin\": 1,\n",
      "  \"Desmoplakin\": 2,\n",
      "  \"Lamin B1\": 3,\n",
      "  \"ST6GAL1\": 4,\n",
      "  \"Sec61 beta\": 5,\n",
      "  \"Tom20\": 6\n",
      "}\n"
     ]
    },
    {
     "name": "stderr",
     "output_type": "stream",
     "text": [
      "\n"
     ]
    }
   ],
   "source": [
    "# read file\n",
    "df = pd.read_csv('/root/aics/modeling/gregj/results/ipp/ipp_17_12_03/data_jobs_out.csv',\n",
    "                 dtype={'structureSegOutputFilename':str, 'structureSegOutputFolder':str})\n",
    "\n",
    "# add column with clean paths to h5 files (TODO: report bug in greg's code)\n",
    "\n",
    "clean_paths = [p.replace('.0.h5', '.h5') for p in df['save_h5_reg_path']]\n",
    "df['save_h5_reg_path_clean'] = clean_paths\n",
    "\n",
    "# filter for mito annotations\n",
    "df = df.query('mitoticLabel >= 0')\n",
    "df = df.reset_index(drop=True)\n",
    "\n",
    "# filter for rows where images are actually present\n",
    "df = filter_dataframe(df,'/root/aics/modeling/gregj/results/ipp/ipp_17_12_03/','save_flat_reg_path')\n",
    "\n",
    "# add numeric labels\n",
    "le = LabelEncoder()\n",
    "df['targetNumeric'] = le.fit_transform(df['structureProteinName']).astype(int)\n",
    "\n",
    "# print label map\n",
    "print(json.dumps(dict(zip(le.classes_,[int(i) for i in le.transform(le.classes_)])), indent = 2))"
   ]
  },
  {
   "cell_type": "markdown",
   "metadata": {},
   "source": [
    "### load dataprovider from dataframe"
   ]
  },
  {
   "cell_type": "code",
   "execution_count": 13,
   "metadata": {},
   "outputs": [],
   "source": [
    "split_fracs={'train': 0.8, 'test': 0.2}\n",
    "split_seed=1\n",
    "\n",
    "dataloader_kwargs={split:{'batch_size':BATCH_SIZE,\n",
    "                          'shuffle':True,\n",
    "                          'drop_last':True,\n",
    "                          'num_workers':4,\n",
    "                          'pin_memory':True} for split in split_fracs.keys()}\n",
    "\n",
    "dataset_kwargs={split:{'image_root_dir':'/root/aics/modeling/gregj/results/ipp/ipp_17_10_25/',\n",
    "                       'image_path_col':'save_h5_reg_path_clean',\n",
    "                       'image_channels':(3,4,2),\n",
    "                       'target_col':'targetNumeric',\n",
    "                       'unique_id_col':'save_h5_reg_path'} for split in split_fracs.keys()}\n",
    "\n",
    "dp = dataframeDataProvider(df, dset_type=dataframeDatasetHDF5,\n",
    "                           split_fracs=split_fracs,\n",
    "                           split_seed=split_seed,\n",
    "                           dataset_kwargs=dataset_kwargs,\n",
    "                           dataloader_kwargs=dataloader_kwargs)"
   ]
  },
  {
   "cell_type": "markdown",
   "metadata": {},
   "source": [
    "### test dataset i/o (via indices)"
   ]
  },
  {
   "cell_type": "code",
   "execution_count": 14,
   "metadata": {},
   "outputs": [],
   "source": [
    "dset = dp._datasets['test']"
   ]
  },
  {
   "cell_type": "markdown",
   "metadata": {},
   "source": [
    "#### with single index"
   ]
  },
  {
   "cell_type": "code",
   "execution_count": 15,
   "metadata": {},
   "outputs": [
    {
     "name": "stdout",
     "output_type": "stream",
     "text": [
      "torch.Size([1])\n",
      "torch.Size([3, 128, 96, 64])\n",
      "125 <class 'str'>\n"
     ]
    }
   ],
   "source": [
    "x,y,u = dset[4]\n",
    "print(y.shape)\n",
    "print(x.shape)\n",
    "print(len(u), type(u))"
   ]
  },
  {
   "cell_type": "markdown",
   "metadata": {},
   "source": [
    "#### with multiple indices"
   ]
  },
  {
   "cell_type": "code",
   "execution_count": 16,
   "metadata": {},
   "outputs": [
    {
     "name": "stdout",
     "output_type": "stream",
     "text": [
      "torch.Size([4, 1])\n",
      "torch.Size([4, 3, 128, 96, 64])\n",
      "4 <class 'tuple'>\n"
     ]
    }
   ],
   "source": [
    "x,y,u = dset[[110,111,112,113]]\n",
    "print(y.shape)\n",
    "print(x.shape)\n",
    "print(len(u), type(u))"
   ]
  },
  {
   "cell_type": "markdown",
   "metadata": {},
   "source": [
    "### test dataprovider i/o (via unique ids)"
   ]
  },
  {
   "cell_type": "markdown",
   "metadata": {},
   "source": [
    "#### with single id"
   ]
  },
  {
   "cell_type": "code",
   "execution_count": 17,
   "metadata": {},
   "outputs": [
    {
     "name": "stdout",
     "output_type": "stream",
     "text": [
      "torch.Size([1])\n",
      "torch.Size([3, 128, 96, 64])\n",
      "129 <class 'str'>\n"
     ]
    }
   ],
   "source": [
    "x,y,u = dp['3500001157_100X_20170807_5-Scene-10-P40-E08.czi_f28487ddfa8d6d4b4ce77ff5d/3500001157_100X_20170807_5-Scene-10-P40-E08.czi_13.0.h5']\n",
    "print(y.shape)\n",
    "print(x.shape)\n",
    "print(len(u), type(u))"
   ]
  },
  {
   "cell_type": "markdown",
   "metadata": {},
   "source": [
    "#### with multiple ids"
   ]
  },
  {
   "cell_type": "code",
   "execution_count": 18,
   "metadata": {},
   "outputs": [
    {
     "name": "stdout",
     "output_type": "stream",
     "text": [
      "torch.Size([3, 1])\n",
      "torch.Size([3, 3, 128, 96, 64])\n",
      "3 <class 'tuple'>\n"
     ]
    }
   ],
   "source": [
    "x,y,u = dp[['3500000949_100X_20170531_7-Scene-1-P16-E05.czi_a2fb0a90e0f5b8f69a1cb1d3b/3500000949_100X_20170531_7-Scene-1-P16-E05.czi_11.0.h5',\n",
    "            '3500001238_10X_20170828_2-Scene-05-P8-E05.czi_83ced757a579063fc7b5e71a2/3500001238_10X_20170828_2-Scene-05-P8-E05.czi_2.0.h5',\n",
    "            '3500000939_100X_20170526_7-Scene-05-P35-E07.czi_2f1b3595040633b64c247ef9b/3500000939_100X_20170526_7-Scene-05-P35-E07.czi_10.0.h5']]\n",
    "print(y.shape)\n",
    "print(x.shape)\n",
    "print(len(u), type(u))"
   ]
  },
  {
   "cell_type": "markdown",
   "metadata": {},
   "source": [
    "### test dataloader i/o"
   ]
  },
  {
   "cell_type": "code",
   "execution_count": 19,
   "metadata": {},
   "outputs": [],
   "source": [
    "i,(x,y,u) = next(enumerate(dp.dataloaders['test']))"
   ]
  },
  {
   "cell_type": "code",
   "execution_count": 20,
   "metadata": {},
   "outputs": [
    {
     "name": "stdout",
     "output_type": "stream",
     "text": [
      "torch.Size([32, 1])\n",
      "torch.Size([32, 3, 128, 96, 64])\n",
      "32 <class 'list'>\n"
     ]
    }
   ],
   "source": [
    "print(y.shape)\n",
    "print(x.shape)\n",
    "print(len(u), type(u))"
   ]
  },
  {
   "cell_type": "markdown",
   "metadata": {},
   "source": [
    "## Feature DP"
   ]
  },
  {
   "cell_type": "code",
   "execution_count": 21,
   "metadata": {},
   "outputs": [
    {
     "name": "stdout",
     "output_type": "stream",
     "text": [
      "{\n",
      "  \"Alpha tubulin\": 0,\n",
      "  \"Beta actin\": 1,\n",
      "  \"Desmoplakin\": 2,\n",
      "  \"Lamin B1\": 3,\n",
      "  \"ST6GAL1\": 4,\n",
      "  \"Sec61 beta\": 5,\n",
      "  \"Tom20\": 6\n",
      "}\n"
     ]
    }
   ],
   "source": [
    "df = pd.read_csv('/root/aics/modeling/gregj/results/ipp/ipp_17_12_03/feats_out.csv',\n",
    "                 dtype={'colony_position':str, 'position_ID':str, 'well_ID':str,\n",
    "                        'structureSegOutputFilename':str, 'structureSegOutputFolder':str})\n",
    "\n",
    "# filter for mito annotations\n",
    "df = df.query('mitoticLabel >= 0')\n",
    "df = df.reset_index(drop=True)\n",
    "\n",
    "# add numeric labels\n",
    "le = LabelEncoder()\n",
    "df['targetNumeric'] = le.fit_transform(df['structureProteinName'])\n",
    "\n",
    "# convert df column types -- np -> torch conversion follows these types\n",
    "feat_cols = df.columns[df.columns.str.contains(pat='feat_')]\n",
    "df[feat_cols] = df[feat_cols].astype(np.float32)\n",
    "df['targetNumeric'] = df['targetNumeric'].astype(np.int16)\n",
    "\n",
    "# print label map\n",
    "print(json.dumps(dict(zip(le.classes_,[int(i) for i in le.transform(le.classes_)])), indent = 2))"
   ]
  },
  {
   "cell_type": "code",
   "execution_count": 22,
   "metadata": {},
   "outputs": [],
   "source": [
    "split_fracs={'train': 0.8, 'test': 0.2}\n",
    "split_seed=1\n",
    "\n",
    "dataloader_kwargs={split:{'batch_size':BATCH_SIZE,\n",
    "                          'shuffle':True,\n",
    "                          'drop_last':True,\n",
    "                          'num_workers':4,\n",
    "                          'pin_memory':True} for split in split_fracs.keys()}\n",
    "\n",
    "dataset_kwargs={split:{'feat_col_pattern':'feat_',\n",
    "                       'target_col':'targetNumeric',\n",
    "                       'unique_id_col':'save_h5_reg_path'} for split in split_fracs.keys()}\n",
    "\n",
    "dp = dataframeDataProvider(df, dset_type=dataframeDatasetFeatures,\n",
    "                           split_fracs=split_fracs,\n",
    "                           split_seed=split_seed,\n",
    "                           dataset_kwargs=dataset_kwargs,\n",
    "                           dataloader_kwargs=dataloader_kwargs)"
   ]
  },
  {
   "cell_type": "markdown",
   "metadata": {},
   "source": [
    "### test dataset i/o (via indices)"
   ]
  },
  {
   "cell_type": "code",
   "execution_count": 23,
   "metadata": {},
   "outputs": [],
   "source": [
    "dset = dp._datasets['test']"
   ]
  },
  {
   "cell_type": "markdown",
   "metadata": {},
   "source": [
    "#### with single index"
   ]
  },
  {
   "cell_type": "code",
   "execution_count": 24,
   "metadata": {},
   "outputs": [
    {
     "name": "stdout",
     "output_type": "stream",
     "text": [
      "torch.Size([])\n",
      "torch.Size([2479])\n",
      "125 <class 'str'>\n"
     ]
    }
   ],
   "source": [
    "x,y,u = dset[4]\n",
    "print(y.shape)\n",
    "print(x.shape)\n",
    "print(len(u), type(u))"
   ]
  },
  {
   "cell_type": "markdown",
   "metadata": {},
   "source": [
    "#### with multiple indices"
   ]
  },
  {
   "cell_type": "code",
   "execution_count": 25,
   "metadata": {},
   "outputs": [
    {
     "name": "stdout",
     "output_type": "stream",
     "text": [
      "torch.Size([4]) torch.ShortTensor\n",
      "torch.Size([4, 2479]) torch.FloatTensor\n",
      "4 <class 'tuple'>\n"
     ]
    }
   ],
   "source": [
    "x,y,u = dset[[110,111,112,113]]\n",
    "print(y.shape, y.type())\n",
    "print(x.shape, x.type())\n",
    "print(len(u), type(u))"
   ]
  },
  {
   "cell_type": "markdown",
   "metadata": {},
   "source": [
    "### test dataprovider i/o (via unique ids)"
   ]
  },
  {
   "cell_type": "markdown",
   "metadata": {},
   "source": [
    "#### with single id"
   ]
  },
  {
   "cell_type": "code",
   "execution_count": 26,
   "metadata": {},
   "outputs": [
    {
     "name": "stdout",
     "output_type": "stream",
     "text": [
      "torch.Size([]) torch.ShortTensor\n",
      "torch.Size([2479]) torch.FloatTensor\n",
      "129 <class 'str'>\n"
     ]
    }
   ],
   "source": [
    "x,y,u = dp['3500001157_100X_20170807_5-Scene-10-P40-E08.czi_f28487ddfa8d6d4b4ce77ff5d/3500001157_100X_20170807_5-Scene-10-P40-E08.czi_13.0.h5']\n",
    "print(y.shape, y.type())\n",
    "print(x.shape, x.type())\n",
    "print(len(u), type(u))"
   ]
  },
  {
   "cell_type": "markdown",
   "metadata": {},
   "source": [
    "#### with multiple ids"
   ]
  },
  {
   "cell_type": "code",
   "execution_count": 27,
   "metadata": {},
   "outputs": [
    {
     "name": "stdout",
     "output_type": "stream",
     "text": [
      "torch.Size([3]) torch.ShortTensor\n",
      "torch.Size([3, 2479]) torch.FloatTensor\n",
      "3 <class 'tuple'>\n"
     ]
    }
   ],
   "source": [
    "x,y,u = dp[['3500000949_100X_20170531_7-Scene-1-P16-E05.czi_a2fb0a90e0f5b8f69a1cb1d3b/3500000949_100X_20170531_7-Scene-1-P16-E05.czi_11.0.h5',\n",
    "            '3500001238_10X_20170828_2-Scene-05-P8-E05.czi_83ced757a579063fc7b5e71a2/3500001238_10X_20170828_2-Scene-05-P8-E05.czi_2.0.h5',\n",
    "            '3500000939_100X_20170526_7-Scene-05-P35-E07.czi_2f1b3595040633b64c247ef9b/3500000939_100X_20170526_7-Scene-05-P35-E07.czi_10.0.h5']]\n",
    "print(y.shape, y.type())\n",
    "print(x.shape, x.type())\n",
    "print(len(u), type(u))"
   ]
  },
  {
   "cell_type": "markdown",
   "metadata": {},
   "source": [
    "### test dataloader i/o"
   ]
  },
  {
   "cell_type": "code",
   "execution_count": 28,
   "metadata": {},
   "outputs": [],
   "source": [
    "i,(x,y,u) = next(enumerate(dp.dataloaders['test']))"
   ]
  },
  {
   "cell_type": "code",
   "execution_count": 29,
   "metadata": {},
   "outputs": [
    {
     "name": "stdout",
     "output_type": "stream",
     "text": [
      "torch.Size([32]) torch.ShortTensor\n",
      "torch.Size([32, 2479]) torch.FloatTensor\n",
      "32 <class 'list'>\n"
     ]
    }
   ],
   "source": [
    "print(y.shape, y.type())\n",
    "print(x.shape, x.type())\n",
    "print(len(u), type(u))"
   ]
  },
  {
   "cell_type": "code",
   "execution_count": null,
   "metadata": {},
   "outputs": [],
   "source": []
  }
 ],
 "metadata": {
  "kernelspec": {
   "display_name": "Python 3",
   "language": "python",
   "name": "python3"
  },
  "language_info": {
   "codemirror_mode": {
    "name": "ipython",
    "version": 3
   },
   "file_extension": ".py",
   "mimetype": "text/x-python",
   "name": "python",
   "nbconvert_exporter": "python",
   "pygments_lexer": "ipython3",
   "version": "3.6.4"
  }
 },
 "nbformat": 4,
 "nbformat_minor": 2
}
