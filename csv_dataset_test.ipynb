{
 "cells": [
  {
   "cell_type": "code",
   "execution_count": null,
   "metadata": {
    "collapsed": true
   },
   "outputs": [],
   "source": [
    "from pytorch_learning_tools.data_providers.DataProviderCSVimages import DataProvider"
   ]
  },
  {
   "cell_type": "markdown",
   "metadata": {},
   "source": [
    "## test h5 dataprovider"
   ]
  },
  {
   "cell_type": "code",
   "execution_count": null,
   "metadata": {},
   "outputs": [],
   "source": [
    "dp = DataProvider('/root/gregj/results/ipp_dataset_cellnuc_seg_curated_8_24_17/')"
   ]
  },
  {
   "cell_type": "code",
   "execution_count": null,
   "metadata": {},
   "outputs": [],
   "source": [
    "dp.opts"
   ]
  },
  {
   "cell_type": "code",
   "execution_count": null,
   "metadata": {
    "collapsed": true
   },
   "outputs": [],
   "source": [
    "dp.unique_targets"
   ]
  },
  {
   "cell_type": "code",
   "execution_count": null,
   "metadata": {
    "collapsed": true
   },
   "outputs": [],
   "source": [
    "my_unique_ids = [dp.dataset.df[dp.opts['unique_id_col']][i] for i in [1,11,111,1111,11111]]\n",
    "dp.get_data_points(my_unique_ids)"
   ]
  },
  {
   "cell_type": "code",
   "execution_count": null,
   "metadata": {
    "collapsed": true
   },
   "outputs": [],
   "source": [
    "for i_batch, sample in enumerate(dp.dataloaders['test']):\n",
    "    print(i_batch)\n",
    "    print([uid[-12:] for uid in sample['unique_id']], sample['data'].size(), sample['target'])"
   ]
  },
  {
   "cell_type": "markdown",
   "metadata": {},
   "source": [
    "## test image data provider"
   ]
  },
  {
   "cell_type": "code",
   "execution_count": null,
   "metadata": {},
   "outputs": [],
   "source": [
    "dp = DataProvider('/root/gregj/results/ipp_dataset_cellnuc_seg_curated_8_24_17/',\n",
    "                  data_path_col='save_flat_reg_path', data_type='png', channel_inds=(0,2),\n",
    "                  convert_target_to_string=True)"
   ]
  },
  {
   "cell_type": "code",
   "execution_count": null,
   "metadata": {},
   "outputs": [],
   "source": [
    "dp.opts"
   ]
  },
  {
   "cell_type": "code",
   "execution_count": null,
   "metadata": {},
   "outputs": [],
   "source": [
    "dp.classes"
   ]
  },
  {
   "cell_type": "code",
   "execution_count": null,
   "metadata": {},
   "outputs": [],
   "source": [
    "my_unique_ids = [dp.df[dp.opts['unique_id_col']][i] for i in [1,11,111,1111,11111]]\n",
    "dp.get_data_points(my_unique_ids)[0]['data'].shape"
   ]
  },
  {
   "cell_type": "code",
   "execution_count": null,
   "metadata": {
    "collapsed": true
   },
   "outputs": [],
   "source": [
    "for i_batch, sample in enumerate(dp.dataloaders['test']):\n",
    "    print(i_batch)\n",
    "    print([uid[-12:] for uid in sample['unique_id']], sample['data'].size(), sample['target'])"
   ]
  },
  {
   "cell_type": "markdown",
   "metadata": {
    "collapsed": true
   },
   "source": [
    "## test matt's csv file"
   ]
  },
  {
   "cell_type": "code",
   "execution_count": null,
   "metadata": {},
   "outputs": [],
   "source": [
    "dp = DataProvider('/root/CellSwiper/', csv_name='melissa_annotations_source_images.csv',\n",
    "                  data_path_col='dest', data_type='tiff',\n",
    "                  target_col='annotation', unique_id_col='dest',\n",
    "                  batch_size=4, convert_target_to_string=True)"
   ]
  },
  {
   "cell_type": "code",
   "execution_count": null,
   "metadata": {},
   "outputs": [],
   "source": [
    "dp.opts"
   ]
  },
  {
   "cell_type": "code",
   "execution_count": null,
   "metadata": {},
   "outputs": [],
   "source": [
    "dp.classes"
   ]
  },
  {
   "cell_type": "code",
   "execution_count": null,
   "metadata": {},
   "outputs": [],
   "source": [
    "my_unique_ids = [dp.df[dp.opts['unique_id_col']][i] for i in [1,11,111]]\n",
    "dp.get_data_points(my_unique_ids)[0]['data'].shape"
   ]
  },
  {
   "cell_type": "code",
   "execution_count": null,
   "metadata": {},
   "outputs": [],
   "source": [
    "for i_batch, sample in enumerate(dp.dataloaders['test']):\n",
    "    print(i_batch)\n",
    "    print([uid[-12:] for uid in sample['unique_id']], sample['data'].size(), sample['target'])"
   ]
  },
  {
   "cell_type": "code",
   "execution_count": null,
   "metadata": {
    "collapsed": true
   },
   "outputs": [],
   "source": []
  }
 ],
 "metadata": {
  "kernelspec": {
   "display_name": "Python 3",
   "language": "python",
   "name": "python3"
  },
  "language_info": {
   "codemirror_mode": {
    "name": "ipython",
    "version": 3
   },
   "file_extension": ".py",
   "mimetype": "text/x-python",
   "name": "python",
   "nbconvert_exporter": "python",
   "pygments_lexer": "ipython3",
   "version": "3.6.2"
  }
 },
 "nbformat": 4,
 "nbformat_minor": 2
}
