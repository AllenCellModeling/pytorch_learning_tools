{
 "cells": [
  {
   "cell_type": "code",
   "execution_count": 1,
   "metadata": {
    "collapsed": true
   },
   "outputs": [],
   "source": [
    "import numpy as np\n",
    "import hashlib"
   ]
  },
  {
   "cell_type": "code",
   "execution_count": 2,
   "metadata": {
    "collapsed": true
   },
   "outputs": [],
   "source": [
    "def hashsplit(X, splits, salt=1, N=5):\n",
    "    \n",
    "    # normalize the weights, just in case\n",
    "    splits = {k:v/sum(splits.values()) for k,v in splits.items()}\n",
    "\n",
    "    # determine bins in [0,1] that correspond to each split\n",
    "    bounds = np.cumsum([0.0] + [v for k,v in sorted(splits.items())])\n",
    "    bins = {k:[bounds[i],bounds[i+1]] for i,(k,v) in enumerate(sorted(splits.items()))}\n",
    "    \n",
    "    # hash the strings deterministically\n",
    "    hashes = [hashlib.sha512((str(i)+str(salt)).encode('utf-8')).hexdigest() for i in X]\n",
    "\n",
    "    # create some numbers in [0,1] (at N sig figs) from the hashes\n",
    "    nums = np.array([float(\"\".join([c for c in h if c.isdigit()][:N]))/10**N for h in hashes])\n",
    "    \n",
    "    # check where the nums fall in [0,1] relative to the bins left and right boundaries\n",
    "    inds = {k:np.where( (nums>l) & (nums<=r) ) for k,(l,r) in bins.items()}\n",
    "\n",
    "    # np.where returns a singleton tuple containing an np array, so convert to list \n",
    "    return {k:list(*v) for k,v in inds.items()}"
   ]
  },
  {
   "cell_type": "code",
   "execution_count": 3,
   "metadata": {
    "collapsed": true
   },
   "outputs": [],
   "source": [
    "# some list that we want to split, could be directory paths or whatever\n",
    "somelist = [i for i in range(20)]\n",
    "\n",
    "# classes into which we want to split, with correspoding weights\n",
    "somesplits = {'train':0.7,\n",
    "              'test':0.2,\n",
    "              'valid':0.1}"
   ]
  },
  {
   "cell_type": "code",
   "execution_count": 4,
   "metadata": {},
   "outputs": [
    {
     "data": {
      "text/plain": [
       "{'test': [2, 4, 6, 11, 16, 17, 18],\n",
       " 'train': [0, 1, 3, 5, 7, 8, 10, 12, 13, 14, 15],\n",
       " 'valid': [9, 19]}"
      ]
     },
     "execution_count": 4,
     "metadata": {},
     "output_type": "execute_result"
    }
   ],
   "source": [
    "hashsplit(somelist, somesplits, salt=1, N=5)"
   ]
  },
  {
   "cell_type": "code",
   "execution_count": null,
   "metadata": {
    "collapsed": true
   },
   "outputs": [],
   "source": []
  }
 ],
 "metadata": {
  "kernelspec": {
   "display_name": "Python 3",
   "language": "python",
   "name": "python3"
  },
  "language_info": {
   "codemirror_mode": {
    "name": "ipython",
    "version": 3
   },
   "file_extension": ".py",
   "mimetype": "text/x-python",
   "name": "python",
   "nbconvert_exporter": "python",
   "pygments_lexer": "ipython3",
   "version": "3.5.2"
  }
 },
 "nbformat": 4,
 "nbformat_minor": 2
}
