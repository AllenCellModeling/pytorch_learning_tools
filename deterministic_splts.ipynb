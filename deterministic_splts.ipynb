{
 "cells": [
  {
   "cell_type": "code",
   "execution_count": 1,
   "metadata": {},
   "outputs": [],
   "source": [
    "import numpy as np\n",
    "import hashlib"
   ]
  },
  {
   "cell_type": "code",
   "execution_count": 2,
   "metadata": {
    "collapsed": true
   },
   "outputs": [],
   "source": [
    "def split_by_hash(X, splits):\n",
    "    \n",
    "    # normalize the weights, just in case\n",
    "    weight_sum = np.sum([splits[k] for k in splits.keys()])\n",
    "    splits = {k:splits[k]/weight_sum for k in splits.keys()}\n",
    "\n",
    "    # determine intervals in [0,1] that correspond to each split\n",
    "    # sorted is important here -- find a less fragile way to create bins?\n",
    "    split_points = np.cumsum([0.0] + [splits[k] for k in sorted(splits.keys())])\n",
    "    bins = {k:[split_points[i],split_points[i+1]]\n",
    "            for i,k in enumerate(sorted(splits.keys()))}\n",
    "    \n",
    "    # hash the strings deterministically -- could add a salt / set a seed if we want\n",
    "    hashes = [hashlib.sha512(str(i).encode('utf-8')).hexdigest() for i in X]\n",
    "\n",
    "    # create some numbers in [0,1] (at five sig figs) from the hashes to bin the list elements\n",
    "    img_nums = np.array([float(\"\".join([c for c in h if c.isdigit()][:5]))/10**5\n",
    "                         for h in hashes])\n",
    "    \n",
    "    # check where the img_nums fall relative to the bins\n",
    "    # np.where returns a singleton tuple containing an np array, hence the weird code \n",
    "    split_inds = {k:list(*np.where(np.logical_and(img_nums>bins[k][0], img_nums<=bins[k][1])))\n",
    "                  for k in bins.keys()}\n",
    "    \n",
    "    return split_inds"
   ]
  },
  {
   "cell_type": "code",
   "execution_count": 5,
   "metadata": {},
   "outputs": [],
   "source": [
    "# some list that we want to split, could be directory paths or whatever\n",
    "somelist = [i for i in range(20)]\n",
    "\n",
    "# classes into which we want to split, with correspoding weights\n",
    "somesplits = {'train':0.7,\n",
    "              'test':0.2,\n",
    "              'valid':0.1}"
   ]
  },
  {
   "cell_type": "code",
   "execution_count": 6,
   "metadata": {},
   "outputs": [
    {
     "data": {
      "text/plain": [
       "{'test': [5, 7, 9, 18],\n",
       " 'train': [0, 1, 2, 3, 4, 6, 8, 10, 11, 12, 13, 14, 16, 17, 19],\n",
       " 'valid': [15]}"
      ]
     },
     "execution_count": 6,
     "metadata": {},
     "output_type": "execute_result"
    }
   ],
   "source": [
    "split_by_hash(somelist, somesplits)"
   ]
  },
  {
   "cell_type": "code",
   "execution_count": null,
   "metadata": {
    "collapsed": true
   },
   "outputs": [],
   "source": []
  }
 ],
 "metadata": {
  "kernelspec": {
   "display_name": "Python 3",
   "language": "python",
   "name": "python3"
  },
  "language_info": {
   "codemirror_mode": {
    "name": "ipython",
    "version": 3
   },
   "file_extension": ".py",
   "mimetype": "text/x-python",
   "name": "python",
   "nbconvert_exporter": "python",
   "pygments_lexer": "ipython3",
   "version": "3.5.2"
  }
 },
 "nbformat": 4,
 "nbformat_minor": 2
}
